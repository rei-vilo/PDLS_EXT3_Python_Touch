{
 "cells": [
  {
   "cell_type": "markdown",
   "metadata": {},
   "source": [
    "# PDLS_EXT3_Python_Touch - First Example\n",
    "\n",
    "## Check the configuration\n",
    "\n",
    "Ensure the [installation](./Notebook%20-%20Installation.ipynb) has been completed."
   ]
  },
  {
   "cell_type": "markdown",
   "metadata": {},
   "source": [
    "## Use"
   ]
  },
  {
   "cell_type": "markdown",
   "metadata": {},
   "source": [
    "In a typical Python project, we start by importing libraries, here `PDLS_EXT3_Python_Touch`. \n",
    "\n",
    "We import all the objects: `Screen`, `Font`, `Colour`."
   ]
  },
  {
   "cell_type": "code",
   "execution_count": 4,
   "metadata": {},
   "outputs": [],
   "source": [
    "from PDLS_EXT3_Python_Touch import *"
   ]
  },
  {
   "attachments": {},
   "cell_type": "markdown",
   "metadata": {},
   "source": [
    "Then we define `myScreen`. \n",
    "\n",
    "+ Run this command for the 3.70-Touch display..."
   ]
  },
  {
   "cell_type": "code",
   "execution_count": 6,
   "metadata": {},
   "outputs": [],
   "source": [
    "myScreen = Screen(Screen_EPD.EXT3_370_0C_Touch)"
   ]
  },
  {
   "attachments": {},
   "cell_type": "markdown",
   "metadata": {},
   "source": [
    "+ ...this command for the 2.71-Touch display..."
   ]
  },
  {
   "cell_type": "code",
   "execution_count": null,
   "metadata": {},
   "outputs": [],
   "source": [
    "myScreen = Screen(Screen_EPD.EXT3_271_09_Touch)"
   ]
  },
  {
   "attachments": {},
   "cell_type": "markdown",
   "metadata": {},
   "source": [
    "Initialise `myScreen`."
   ]
  },
  {
   "cell_type": "code",
   "execution_count": 7,
   "metadata": {},
   "outputs": [
    {
     "name": "stdout",
     "output_type": "stream",
     "text": [
      "iTC 3.70-Touch\n"
     ]
    }
   ],
   "source": [
    "myScreen.begin()\n",
    "\n",
    "print(myScreen.WhoAmI())"
   ]
  },
  {
   "cell_type": "markdown",
   "metadata": {},
   "source": [
    "Let's start the demo: we choose the orientation, the font and then print a message..."
   ]
  },
  {
   "cell_type": "code",
   "execution_count": 8,
   "metadata": {},
   "outputs": [
    {
     "name": "stdout",
     "output_type": "stream",
     "text": [
      "= Common_WhoAmI\n"
     ]
    }
   ],
   "source": [
    "# Demo code\n",
    "print(\"= Common_WhoAmI\")\n",
    "\n",
    "myScreen.setOrientation(7)\n",
    "myScreen.selectFont(Font.TERMINAL_12x16)\n",
    "y = 10\n",
    "myScreen.gText(10, y, \"Hello!\")"
   ]
  },
  {
   "cell_type": "markdown",
   "metadata": {},
   "source": [
    "Remember: everthing is done in the framebuffer. To display it, we need to call `flush()`."
   ]
  },
  {
   "cell_type": "code",
   "execution_count": 9,
   "metadata": {},
   "outputs": [],
   "source": [
    "myScreen.flush()"
   ]
  },
  {
   "cell_type": "markdown",
   "metadata": {},
   "source": [
    "Let's add a second line..."
   ]
  },
  {
   "cell_type": "code",
   "execution_count": 10,
   "metadata": {},
   "outputs": [],
   "source": [
    "y += myScreen.characterSizeY()\n",
    "myScreen.gText(10, y, myScreen.WhoAmI())"
   ]
  },
  {
   "cell_type": "markdown",
   "metadata": {},
   "source": [
    "...and call `flush()` again."
   ]
  },
  {
   "cell_type": "code",
   "execution_count": 11,
   "metadata": {},
   "outputs": [],
   "source": [
    "myScreen.flush()"
   ]
  },
  {
   "cell_type": "markdown",
   "metadata": {},
   "source": [
    "Let's add a third line..."
   ]
  },
  {
   "cell_type": "code",
   "execution_count": 12,
   "metadata": {},
   "outputs": [],
   "source": [
    "y += myScreen.characterSizeY()\n",
    "text = \"{x:d}x{y:d}\".format(x=myScreen.screenSizeX(), y=myScreen.screenSizeY())\n",
    "myScreen.gText(10, y, text)"
   ]
  },
  {
   "cell_type": "markdown",
   "metadata": {},
   "source": [
    "...and call `flush()` again."
   ]
  },
  {
   "cell_type": "code",
   "execution_count": 13,
   "metadata": {},
   "outputs": [],
   "source": [
    "myScreen.flush()"
   ]
  },
  {
   "cell_type": "markdown",
   "metadata": {},
   "source": [
    "Finally, we clean the screen and end the demo."
   ]
  },
  {
   "cell_type": "code",
   "execution_count": 14,
   "metadata": {},
   "outputs": [
    {
     "name": "stdout",
     "output_type": "stream",
     "text": [
      "- Regenerate\n",
      ". End\n"
     ]
    }
   ],
   "source": [
    "print(\"- Regenerate\")\n",
    "myScreen.regenerate()\n",
    "\n",
    "print(\". End\")"
   ]
  },
  {
   "cell_type": "markdown",
   "metadata": {},
   "source": [
    "Congratulations, you have completed the first example!"
   ]
  },
  {
   "cell_type": "markdown",
   "metadata": {},
   "source": [
    "## Conclusion\n",
    "\n",
    "Contrary to other screens, e-paper screens require **two steps**:\n",
    "\n",
    "1. **Generate the image**, actually in a frame-buffer located in RAM;\n",
    "2. **Refresh the screen**, which includes sending the frame-buffer to the screen and performing the update."
   ]
  },
  {
   "cell_type": "markdown",
   "metadata": {},
   "source": [
    "## Next\n",
    "\n",
    "Let's have a look of the methods included in the [PDLS_EXT3_Python_Touch](Notebook%20-%20Inside%20the%20library.ipynb) module."
   ]
  }
 ],
 "metadata": {
  "kernelspec": {
   "display_name": "Python 3 (ipykernel)",
   "language": "python",
   "name": "python3"
  },
  "language_info": {
   "codemirror_mode": {
    "name": "ipython",
    "version": 3
   },
   "file_extension": ".py",
   "mimetype": "text/x-python",
   "name": "python",
   "nbconvert_exporter": "python",
   "pygments_lexer": "ipython3",
   "version": "3.9.2"
  },
  "vscode": {
   "interpreter": {
    "hash": "767d51c1340bd893661ea55ea3124f6de3c7a262a8b4abca0554b478b1e2ff90"
   }
  }
 },
 "nbformat": 4,
 "nbformat_minor": 2
}
