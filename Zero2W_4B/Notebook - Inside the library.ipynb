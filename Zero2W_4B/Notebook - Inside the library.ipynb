{
 "cells": [
  {
   "attachments": {},
   "cell_type": "markdown",
   "metadata": {},
   "source": [
    "# PDLS_EXT3_Python_Touch - Inside the library\n",
    "\n",
    "Python offers the `dir()` command to list the elements of a library. "
   ]
  },
  {
   "attachments": {},
   "cell_type": "markdown",
   "metadata": {},
   "source": [
    "We start by importing libraries, here `PDLS_EXT3_Python_Touch` and all its objects: `Screen`, `Font`, `Colour`."
   ]
  },
  {
   "cell_type": "code",
   "execution_count": 1,
   "metadata": {},
   "outputs": [],
   "source": [
    "import PDLS_EXT3_Python_Touch"
   ]
  },
  {
   "attachments": {},
   "cell_type": "markdown",
   "metadata": {},
   "source": [
    "Let's list what is inside."
   ]
  },
  {
   "cell_type": "code",
   "execution_count": 2,
   "metadata": {},
   "outputs": [
    {
     "data": {
      "text/plain": [
       "['Colour',\n",
       " 'Font',\n",
       " 'Screen',\n",
       " 'Screen_EPD',\n",
       " '__builtins__',\n",
       " '__cached__',\n",
       " '__copyright__',\n",
       " '__doc__',\n",
       " '__file__',\n",
       " '__licence__',\n",
       " '__loader__',\n",
       " '__name__',\n",
       " '__package__',\n",
       " '__spec__',\n",
       " '__version__',\n",
       " 'time',\n",
       " 'touchEvent']"
      ]
     },
     "execution_count": 2,
     "metadata": {},
     "output_type": "execute_result"
    }
   ],
   "source": [
    "dir(PDLS_EXT3_Python_Touch)"
   ]
  },
  {
   "attachments": {},
   "cell_type": "markdown",
   "metadata": {},
   "source": [
    "Problem is, the `dir()` command lists everything, including private elements which start with `_` and `__`.\n",
    "\n",
    "We could discard them from the list."
   ]
  },
  {
   "cell_type": "code",
   "execution_count": 9,
   "metadata": {},
   "outputs": [
    {
     "name": "stdout",
     "output_type": "stream",
     "text": [
      "> Publich methods of PDLS_EXT3_Python_Touch\n",
      "Colour Font Screen Screen_EPD time touchEvent \n"
     ]
    }
   ],
   "source": [
    "print(\"> Publich methods of PDLS_EXT3_Python_Touch\")\n",
    "\n",
    "for name in dir(PDLS_EXT3_Python_Touch):\n",
    "    if not name.startswith( '_' ):\n",
    "        print(name, end = \" \")\n",
    "\n",
    "print()"
   ]
  },
  {
   "attachments": {},
   "cell_type": "markdown",
   "metadata": {},
   "source": [
    "Let's focus now on the main objects: `Screen`, `Font`, `Colour`.\n",
    "\n",
    "Let's start with `Screen`."
   ]
  },
  {
   "cell_type": "code",
   "execution_count": 10,
   "metadata": {},
   "outputs": [
    {
     "name": "stdout",
     "output_type": "stream",
     "text": [
      "> Publich methods of Screen\n",
      "WhoAmI begin characterSizeX characterSizeY circle clear clearTouch dLine dRectangle flashCS flush fontMax gText getFont getOrientation getTouch getTouchInterrupt i2cAddress index00_data indexE0_data indexE5_data invert line panelBUSY panelCS panelDC panelRESET point readPixel rectangle regenerate screenColourBits screenDiagonal screenSizeX screenSizeY selectFont setFontSolid setFontSpaceX setFontSpaceY setOrientation setPenSolid stringLengthToFitX stringSizeX touchINT touchRESET \n"
     ]
    }
   ],
   "source": [
    "print(\"> Publich methods of Screen\")\n",
    "\n",
    "for name in dir(PDLS_EXT3_Python_Touch.Screen):\n",
    "    if not name.startswith( '_' ):\n",
    "        print(name, end = \" \")\n",
    "\n",
    "print()"
   ]
  },
  {
   "attachments": {},
   "cell_type": "markdown",
   "metadata": {},
   "source": [
    "Let's list the referenced models of screens..."
   ]
  },
  {
   "cell_type": "code",
   "execution_count": 16,
   "metadata": {},
   "outputs": [
    {
     "name": "stdout",
     "output_type": "stream",
     "text": [
      "> Referenced models of Screen_EPD\n",
      "EXT3_271_09_Touch\n",
      "EXT3_370_0C_Touch\n",
      "\n"
     ]
    }
   ],
   "source": [
    "print(\"> Referenced models of Screen_EPD\")\n",
    "\n",
    "for name in dir(PDLS_EXT3_Python_Touch.Screen_EPD):\n",
    "    if not name.startswith( '_' ):\n",
    "        print(name)\n",
    "\n",
    "print()"
   ]
  },
  {
   "attachments": {},
   "cell_type": "markdown",
   "metadata": {},
   "source": [
    "Let's do the same for `Font`..."
   ]
  },
  {
   "cell_type": "code",
   "execution_count": 15,
   "metadata": {},
   "outputs": [
    {
     "name": "stdout",
     "output_type": "stream",
     "text": [
      "> Publich methods of Font\n",
      "MAX_FONT_SIZE\n",
      "TERMINAL_12x16\n",
      "TERMINAL_16x24\n",
      "TERMINAL_6x8\n",
      "TERMINAL_8x12\n",
      "font_s\n",
      "\n"
     ]
    }
   ],
   "source": [
    "print(\"> Publich methods of Font\")\n",
    "\n",
    "for name in dir(PDLS_EXT3_Python_Touch.Font):\n",
    "    if not name.startswith( '_' ):\n",
    "        print(name)\n",
    "\n",
    "print()"
   ]
  },
  {
   "attachments": {},
   "cell_type": "markdown",
   "metadata": {},
   "source": [
    "...and finally `Colour`."
   ]
  },
  {
   "cell_type": "code",
   "execution_count": 17,
   "metadata": {},
   "outputs": [
    {
     "name": "stdout",
     "output_type": "stream",
     "text": [
      "> Publich methods of Colour\n",
      "BLACK\n",
      "GRAY\n",
      "GREY\n",
      "WHITE\n",
      "\n"
     ]
    }
   ],
   "source": [
    "print(\"> Publich methods of Colour\")\n",
    "\n",
    "for name in dir(PDLS_EXT3_Python_Touch.Colour):\n",
    "    if not name.startswith( '_' ):\n",
    "        print(name)\n",
    "\n",
    "print()"
   ]
  },
  {
   "attachments": {},
   "cell_type": "markdown",
   "metadata": {},
   "source": [
    "## Next\n",
    "\n",
    "More [examples](./examples/Notebook%20-%20Other%20Examples.ipynb) are available on the `examples` sub-folder. "
   ]
  }
 ],
 "metadata": {
  "kernelspec": {
   "display_name": "Python 3",
   "language": "python",
   "name": "python3"
  },
  "language_info": {
   "codemirror_mode": {
    "name": "ipython",
    "version": 3
   },
   "file_extension": ".py",
   "mimetype": "text/x-python",
   "name": "python",
   "nbconvert_exporter": "python",
   "pygments_lexer": "ipython3",
   "version": "3.9.2"
  },
  "orig_nbformat": 4,
  "vscode": {
   "interpreter": {
    "hash": "e7370f93d1d0cde622a1f8e1c04877d8463912d04d973331ad4851f04de6915a"
   }
  }
 },
 "nbformat": 4,
 "nbformat_minor": 2
}
